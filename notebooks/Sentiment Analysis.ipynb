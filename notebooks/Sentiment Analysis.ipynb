{
 "cells": [
  {
   "cell_type": "markdown",
   "id": "0236385e",
   "metadata": {},
   "source": [
    "# Sentiment Analysis of twitter tweets"
   ]
  },
  {
   "cell_type": "code",
   "execution_count": 1,
   "id": "983806d9",
   "metadata": {},
   "outputs": [],
   "source": [
    "import pandas as pd\n",
    "import numpy as np\n",
    "import matplotlib.pyplot as plt\n",
    "import seaborn as sns"
   ]
  },
  {
   "cell_type": "code",
   "execution_count": 2,
   "id": "2e43a58a",
   "metadata": {},
   "outputs": [],
   "source": [
    "import nltk\n",
    "from nltk.classify.scikitlearn import SklearnClassifier\n",
    "import random\n",
    "import pickle"
   ]
  },
  {
   "cell_type": "code",
   "execution_count": 3,
   "id": "3b35ab8e",
   "metadata": {},
   "outputs": [
    {
     "data": {
      "text/html": [
       "<div>\n",
       "<style scoped>\n",
       "    .dataframe tbody tr th:only-of-type {\n",
       "        vertical-align: middle;\n",
       "    }\n",
       "\n",
       "    .dataframe tbody tr th {\n",
       "        vertical-align: top;\n",
       "    }\n",
       "\n",
       "    .dataframe thead th {\n",
       "        text-align: right;\n",
       "    }\n",
       "</style>\n",
       "<table border=\"1\" class=\"dataframe\">\n",
       "  <thead>\n",
       "    <tr style=\"text-align: right;\">\n",
       "      <th></th>\n",
       "      <th>Sentence</th>\n",
       "      <th>Sentiment</th>\n",
       "    </tr>\n",
       "  </thead>\n",
       "  <tbody>\n",
       "    <tr>\n",
       "      <th>0</th>\n",
       "      <td>The GeoSolutions technology will leverage Bene...</td>\n",
       "      <td>positive</td>\n",
       "    </tr>\n",
       "    <tr>\n",
       "      <th>1</th>\n",
       "      <td>$ESI on lows, down $1.50 to $2.50 BK a real po...</td>\n",
       "      <td>negative</td>\n",
       "    </tr>\n",
       "    <tr>\n",
       "      <th>2</th>\n",
       "      <td>For the last quarter of 2010 , Componenta 's n...</td>\n",
       "      <td>positive</td>\n",
       "    </tr>\n",
       "    <tr>\n",
       "      <th>3</th>\n",
       "      <td>According to the Finnish-Russian Chamber of Co...</td>\n",
       "      <td>neutral</td>\n",
       "    </tr>\n",
       "    <tr>\n",
       "      <th>4</th>\n",
       "      <td>The Swedish buyout firm has sold its remaining...</td>\n",
       "      <td>neutral</td>\n",
       "    </tr>\n",
       "    <tr>\n",
       "      <th>...</th>\n",
       "      <td>...</td>\n",
       "      <td>...</td>\n",
       "    </tr>\n",
       "    <tr>\n",
       "      <th>5837</th>\n",
       "      <td>RISING costs have forced packaging producer Hu...</td>\n",
       "      <td>negative</td>\n",
       "    </tr>\n",
       "    <tr>\n",
       "      <th>5838</th>\n",
       "      <td>Nordic Walking was first used as a summer trai...</td>\n",
       "      <td>neutral</td>\n",
       "    </tr>\n",
       "    <tr>\n",
       "      <th>5839</th>\n",
       "      <td>According shipping company Viking Line , the E...</td>\n",
       "      <td>neutral</td>\n",
       "    </tr>\n",
       "    <tr>\n",
       "      <th>5840</th>\n",
       "      <td>In the building and home improvement trade , s...</td>\n",
       "      <td>neutral</td>\n",
       "    </tr>\n",
       "    <tr>\n",
       "      <th>5841</th>\n",
       "      <td>HELSINKI AFX - KCI Konecranes said it has won ...</td>\n",
       "      <td>positive</td>\n",
       "    </tr>\n",
       "  </tbody>\n",
       "</table>\n",
       "<p>5842 rows × 2 columns</p>\n",
       "</div>"
      ],
      "text/plain": [
       "                                               Sentence Sentiment\n",
       "0     The GeoSolutions technology will leverage Bene...  positive\n",
       "1     $ESI on lows, down $1.50 to $2.50 BK a real po...  negative\n",
       "2     For the last quarter of 2010 , Componenta 's n...  positive\n",
       "3     According to the Finnish-Russian Chamber of Co...   neutral\n",
       "4     The Swedish buyout firm has sold its remaining...   neutral\n",
       "...                                                 ...       ...\n",
       "5837  RISING costs have forced packaging producer Hu...  negative\n",
       "5838  Nordic Walking was first used as a summer trai...   neutral\n",
       "5839  According shipping company Viking Line , the E...   neutral\n",
       "5840  In the building and home improvement trade , s...   neutral\n",
       "5841  HELSINKI AFX - KCI Konecranes said it has won ...  positive\n",
       "\n",
       "[5842 rows x 2 columns]"
      ]
     },
     "execution_count": 3,
     "metadata": {},
     "output_type": "execute_result"
    }
   ],
   "source": [
    "df = pd.read_csv('../datasets/Tweets.csv') #https://www.kaggle.com/sbhatti/financial-sentiment-analysis\n",
    "df"
   ]
  },
  {
   "cell_type": "markdown",
   "id": "a7bebbc0",
   "metadata": {},
   "source": [
    "## Understanding the data"
   ]
  },
  {
   "cell_type": "code",
   "execution_count": 4,
   "id": "81d94588",
   "metadata": {},
   "outputs": [
    {
     "name": "stdout",
     "output_type": "stream",
     "text": [
      "<class 'pandas.core.frame.DataFrame'>\n",
      "RangeIndex: 5842 entries, 0 to 5841\n",
      "Data columns (total 2 columns):\n",
      " #   Column     Non-Null Count  Dtype \n",
      "---  ------     --------------  ----- \n",
      " 0   Sentence   5842 non-null   object\n",
      " 1   Sentiment  5842 non-null   object\n",
      "dtypes: object(2)\n",
      "memory usage: 91.4+ KB\n"
     ]
    }
   ],
   "source": [
    "df.info()"
   ]
  },
  {
   "cell_type": "code",
   "execution_count": 5,
   "id": "ca9a4ee2",
   "metadata": {},
   "outputs": [
    {
     "data": {
      "text/plain": [
       "<AxesSubplot:xlabel='Sentiment', ylabel='count'>"
      ]
     },
     "execution_count": 5,
     "metadata": {},
     "output_type": "execute_result"
    },
    {
     "data": {
      "image/png": "[encoded data removed]",
      "text/plain": [
       "<Figure size 432x288 with 1 Axes>"
      ]
     },
     "metadata": {
      "needs_background": "light"
     },
     "output_type": "display_data"
    }
   ],
   "source": [
    "sns.countplot(data=df, x='Sentiment')"
   ]
  },
  {
   "cell_type": "markdown",
   "id": "0cbdba80",
   "metadata": {},
   "source": [
    "This shows we have 3 labels - Positive, negative and netural with maximum of neutral tweets."
   ]
  },
  {
   "cell_type": "markdown",
   "id": "f8a14545",
   "metadata": {},
   "source": [
    "## Basic NLTK to start building the model"
   ]
  },
  {
   "cell_type": "code",
   "execution_count": 6,
   "id": "f82f292b",
   "metadata": {},
   "outputs": [],
   "source": [
    "documents = []\n",
    "for ind in df.index:\n",
    "    words = nltk.word_tokenize(df['Sentence'][ind])\n",
    "    documents.append((words, df['Sentiment'][ind]))"
   ]
  },
  {
   "cell_type": "code",
   "execution_count": 7,
   "id": "0a3eab3c",
   "metadata": {},
   "outputs": [],
   "source": [
    "all_words = []\n",
    "for sentence in df['Sentence'].tolist():\n",
    "    all_words += nltk.word_tokenize(sentence)"
   ]
  },
  {
   "cell_type": "code",
   "execution_count": 8,
   "id": "a8dc408e",
   "metadata": {},
   "outputs": [
    {
     "data": {
      "text/plain": [
       "[('.', 5149),\n",
       " ('the', 4788),\n",
       " (',', 4782),\n",
       " ('of', 3312),\n",
       " ('in', 2900),\n",
       " ('to', 2755),\n",
       " ('and', 2492),\n",
       " ('a', 1769),\n",
       " ('$', 1321),\n",
       " ('The', 1309),\n",
       " ('for', 1283),\n",
       " ('EUR', 1189),\n",
       " (\"'s\", 1069),\n",
       " ('from', 944),\n",
       " ('is', 899),\n",
       " ('will', 800),\n",
       " ('on', 788),\n",
       " ('company', 762),\n",
       " ('mn', 729),\n",
       " (':', 720)]"
      ]
     },
     "execution_count": 8,
     "metadata": {},
     "output_type": "execute_result"
    }
   ],
   "source": [
    "all_words = nltk.FreqDist(all_words)\n",
    "all_words.most_common(20)"
   ]
  },
  {
   "cell_type": "code",
   "execution_count": 9,
   "id": "38ec3ff3",
   "metadata": {},
   "outputs": [
    {
     "data": {
      "text/plain": [
       "14887"
      ]
     },
     "execution_count": 9,
     "metadata": {},
     "output_type": "execute_result"
    }
   ],
   "source": [
    "len(all_words)"
   ]
  },
  {
   "cell_type": "code",
   "execution_count": 10,
   "id": "8875112e",
   "metadata": {},
   "outputs": [],
   "source": [
    "word_features = list(all_words.keys())[:3000]"
   ]
  },
  {
   "cell_type": "code",
   "execution_count": 11,
   "id": "9c59af91",
   "metadata": {},
   "outputs": [],
   "source": [
    "def find_features(document):\n",
    "    words = set(document)\n",
    "    features = {}\n",
    "    for w in word_features:\n",
    "         features[w] = (w in words)\n",
    "    return features"
   ]
  },
  {
   "cell_type": "code",
   "execution_count": 12,
   "id": "42622f67",
   "metadata": {},
   "outputs": [],
   "source": [
    "featuresets = [(find_features(tweet), category) for (tweet, category) in documents]"
   ]
  },
  {
   "cell_type": "code",
   "execution_count": 13,
   "id": "2e960d5b",
   "metadata": {},
   "outputs": [
    {
     "name": "stdout",
     "output_type": "stream",
     "text": [
      "Total Length: 5842\n",
      "80% of the data is: 4673\n"
     ]
    }
   ],
   "source": [
    "total_len = len(featuresets)\n",
    "print(\"Total Length:\", total_len)\n",
    "print(\"80% of the data is:\", int(total_len*0.8))"
   ]
  },
  {
   "cell_type": "code",
   "execution_count": 14,
   "id": "2c8015b8",
   "metadata": {},
   "outputs": [],
   "source": [
    "training_set = featuresets[:4673]\n",
    "testing_set = featuresets[4673:]"
   ]
  },
  {
   "cell_type": "markdown",
   "id": "9e82d583",
   "metadata": {},
   "source": [
    "## Model testing"
   ]
  },
  {
   "cell_type": "markdown",
   "id": "db836e97",
   "metadata": {},
   "source": [
    "NLTK builtin naive bayes calssifier"
   ]
  },
  {
   "cell_type": "code",
   "execution_count": 15,
   "id": "48b0743c",
   "metadata": {},
   "outputs": [],
   "source": [
    "classifier = nltk.NaiveBayesClassifier.train(training_set)"
   ]
  },
  {
   "cell_type": "code",
   "execution_count": 16,
   "id": "36fdf8c0",
   "metadata": {},
   "outputs": [
    {
     "name": "stdout",
     "output_type": "stream",
     "text": [
      "Original Naive Bayes Algo accuracy percent:  68.60564585115483\n",
      "Most Informative Features\n",
      "                    TSLA = True           negati : neutra =     58.3 : 1.0\n",
      "                   lower = True           negati : positi =     54.8 : 1.0\n",
      "                       X = True           negati : neutra =     41.0 : 1.0\n",
      "                   https = True           negati : neutra =     36.7 : 1.0\n",
      "                    grew = True           positi : neutra =     34.5 : 1.0\n",
      "                    http = True           positi : neutra =     30.0 : 1.0\n",
      "                    fell = True           negati : positi =     29.4 : 1.0\n",
      "                       @ = True           negati : neutra =     29.3 : 1.0\n",
      "                positive = True           positi : neutra =     27.7 : 1.0\n",
      "                    AAPL = True           negati : neutra =     27.6 : 1.0\n",
      "                    rose = True           positi : neutra =     26.6 : 1.0\n",
      "                    down = True           negati : positi =     26.5 : 1.0\n",
      "                   2,700 = True           negati : neutra =     26.1 : 1.0\n",
      "                    FTSE = True           negati : neutra =     23.6 : 1.0\n",
      "                    fall = True           negati : positi =     21.2 : 1.0\n"
     ]
    }
   ],
   "source": [
    "print(\"Original Naive Bayes Algo accuracy percent: \", (nltk.classify.accuracy(classifier, testing_set))*100)\n",
    "classifier.show_most_informative_features(15)"
   ]
  },
  {
   "cell_type": "code",
   "execution_count": 18,
   "id": "45060a79",
   "metadata": {},
   "outputs": [],
   "source": [
    "save_classifier = open(\"../models/naivebayes.pickle\", \"wb\")\n",
    "pickle.dump(classifier, save_classifier)\n",
    "save_classifier.close()"
   ]
  },
  {
   "cell_type": "code",
   "execution_count": 15,
   "id": "6e3e1a9a",
   "metadata": {},
   "outputs": [],
   "source": [
    "# Loading the classifier\n",
    "classifier_f = open(\"../models/naivebayes.pickle\", 'rb')\n",
    "classifier_orig = pickle.load(classifier_f)\n",
    "classifier_f.close()"
   ]
  },
  {
   "cell_type": "code",
   "execution_count": 17,
   "id": "33d3b426",
   "metadata": {},
   "outputs": [
    {
     "name": "stdout",
     "output_type": "stream",
     "text": [
      "Loaded Naive Bayes Algo accuracy percent:  68.60564585115483\n",
      "Most Informative Features\n",
      "                    TSLA = True           negati : neutra =     58.3 : 1.0\n",
      "                   lower = True           negati : positi =     54.8 : 1.0\n",
      "                       X = True           negati : neutra =     41.0 : 1.0\n",
      "                   https = True           negati : neutra =     36.7 : 1.0\n",
      "                    grew = True           positi : neutra =     34.5 : 1.0\n",
      "                    http = True           positi : neutra =     30.0 : 1.0\n",
      "                    fell = True           negati : positi =     29.4 : 1.0\n",
      "                       @ = True           negati : neutra =     29.3 : 1.0\n",
      "                positive = True           positi : neutra =     27.7 : 1.0\n",
      "                    AAPL = True           negati : neutra =     27.6 : 1.0\n",
      "                    rose = True           positi : neutra =     26.6 : 1.0\n",
      "                    down = True           negati : positi =     26.5 : 1.0\n",
      "                   2,700 = True           negati : neutra =     26.1 : 1.0\n",
      "                    FTSE = True           negati : neutra =     23.6 : 1.0\n",
      "                    fall = True           negati : positi =     21.2 : 1.0\n"
     ]
    }
   ],
   "source": [
    "print(\"Loaded Naive Bayes Algo accuracy percent: \", (nltk.classify.accuracy(classifier_orig, testing_set))*100)\n",
    "classifier_orig.show_most_informative_features(15)"
   ]
  },
  {
   "cell_type": "code",
   "execution_count": 18,
   "id": "5c1c6cd8",
   "metadata": {},
   "outputs": [
    {
     "data": {
      "text/plain": [
       "'positive'"
      ]
     },
     "execution_count": 18,
     "metadata": {},
     "output_type": "execute_result"
    }
   ],
   "source": [
    "classifier_orig.classify(find_features('An EU proposal that would have banned the mining of energy-intensive cryptocurrencies such as Bitcoin failed in a committee vote, in what industry backers called a big win'))"
   ]
  },
  {
   "cell_type": "markdown",
   "id": "f22736c3",
   "metadata": {},
   "source": [
    "## Using Sklearn classifiers"
   ]
  },
  {
   "cell_type": "code",
   "execution_count": 19,
   "id": "7a65d3b2",
   "metadata": {},
   "outputs": [],
   "source": [
    "from sklearn.naive_bayes import MultinomialNB, BernoulliNB"
   ]
  },
  {
   "cell_type": "code",
   "execution_count": 39,
   "id": "d670b74e",
   "metadata": {},
   "outputs": [],
   "source": [
    "from sklearn.linear_model import LogisticRegression, SGDClassifier\n",
    "from sklearn.svm import SVC, LinearSVC"
   ]
  },
  {
   "cell_type": "markdown",
   "id": "e6f7b17f",
   "metadata": {},
   "source": [
    "Multinominal Naive Bayes"
   ]
  },
  {
   "cell_type": "code",
   "execution_count": 21,
   "id": "a540ea5f",
   "metadata": {},
   "outputs": [
    {
     "data": {
      "text/plain": [
       "<SklearnClassifier(MultinomialNB())>"
      ]
     },
     "execution_count": 21,
     "metadata": {},
     "output_type": "execute_result"
    }
   ],
   "source": [
    "MNB_classifier = SklearnClassifier(MultinomialNB())\n",
    "MNB_classifier.train(training_set)"
   ]
  },
  {
   "cell_type": "code",
   "execution_count": 22,
   "id": "0c7bde67",
   "metadata": {},
   "outputs": [
    {
     "name": "stdout",
     "output_type": "stream",
     "text": [
      "MNB_classifier accuracy percent:  69.20444824636441\n"
     ]
    }
   ],
   "source": [
    "print(\"MNB_classifier accuracy percent: \", (nltk.classify.accuracy(MNB_classifier, testing_set))*100)"
   ]
  },
  {
   "cell_type": "code",
   "execution_count": 23,
   "id": "8eca2143",
   "metadata": {},
   "outputs": [],
   "source": [
    "save_classifier = open(\"../models/mnb_classifier.pickle\", \"wb\")\n",
    "pickle.dump(MNB_classifier, save_classifier)\n",
    "save_classifier.close()"
   ]
  },
  {
   "cell_type": "markdown",
   "id": "f87bd8fd",
   "metadata": {},
   "source": [
    "Bernoulli Naive Bayes"
   ]
  },
  {
   "cell_type": "code",
   "execution_count": 24,
   "id": "1368a74d",
   "metadata": {},
   "outputs": [
    {
     "data": {
      "text/plain": [
       "<SklearnClassifier(BernoulliNB())>"
      ]
     },
     "execution_count": 24,
     "metadata": {},
     "output_type": "execute_result"
    }
   ],
   "source": [
    "BernoulliNB_classifier = SklearnClassifier(BernoulliNB())\n",
    "BernoulliNB_classifier.train(training_set)"
   ]
  },
  {
   "cell_type": "code",
   "execution_count": 25,
   "id": "355676dc",
   "metadata": {},
   "outputs": [
    {
     "name": "stdout",
     "output_type": "stream",
     "text": [
      "BernoulliNB_classifier accuracy percent:  68.77673224978615\n"
     ]
    }
   ],
   "source": [
    "print(\"BernoulliNB_classifier accuracy percent: \", (nltk.classify.accuracy(BernoulliNB_classifier, testing_set))*100)"
   ]
  },
  {
   "cell_type": "code",
   "execution_count": 26,
   "id": "ee6e3a13",
   "metadata": {},
   "outputs": [],
   "source": [
    "save_classifier = open(\"../models/bernoulliNB_classifier.pickle\", \"wb\")\n",
    "pickle.dump(BernoulliNB_classifier, save_classifier)\n",
    "save_classifier.close()"
   ]
  },
  {
   "cell_type": "markdown",
   "id": "42f3aca9",
   "metadata": {},
   "source": [
    "Logistic Regression"
   ]
  },
  {
   "cell_type": "code",
   "execution_count": 27,
   "id": "3a3d09f7",
   "metadata": {},
   "outputs": [
    {
     "data": {
      "text/plain": [
       "<SklearnClassifier(LogisticRegression(max_iter=1000))>"
      ]
     },
     "execution_count": 27,
     "metadata": {},
     "output_type": "execute_result"
    }
   ],
   "source": [
    "LogisticRegression_classifier = SklearnClassifier(LogisticRegression(max_iter=1000))\n",
    "LogisticRegression_classifier.train(training_set)"
   ]
  },
  {
   "cell_type": "code",
   "execution_count": 28,
   "id": "b8832d3b",
   "metadata": {},
   "outputs": [
    {
     "name": "stdout",
     "output_type": "stream",
     "text": [
      "LogisticRegression_classifier accuracy percent:  68.69118905047048\n"
     ]
    }
   ],
   "source": [
    "print(\"LogisticRegression_classifier accuracy percent: \", (nltk.classify.accuracy(LogisticRegression_classifier, testing_set))*100)"
   ]
  },
  {
   "cell_type": "code",
   "execution_count": 29,
   "id": "1eabfdfd",
   "metadata": {},
   "outputs": [],
   "source": [
    "save_classifier = open(\"../models/LogisticRegression_classifier.pickle\", \"wb\")\n",
    "pickle.dump(LogisticRegression_classifier, save_classifier)\n",
    "save_classifier.close()"
   ]
  },
  {
   "cell_type": "markdown",
   "id": "66540784",
   "metadata": {},
   "source": [
    "SVC"
   ]
  },
  {
   "cell_type": "code",
   "execution_count": 30,
   "id": "9474d97b",
   "metadata": {},
   "outputs": [
    {
     "data": {
      "text/plain": [
       "<SklearnClassifier(SVC())>"
      ]
     },
     "execution_count": 30,
     "metadata": {},
     "output_type": "execute_result"
    }
   ],
   "source": [
    "SVC_classifier = SklearnClassifier(SVC())\n",
    "SVC_classifier.train(training_set)"
   ]
  },
  {
   "cell_type": "code",
   "execution_count": 31,
   "id": "bb6ad2b5",
   "metadata": {},
   "outputs": [
    {
     "name": "stdout",
     "output_type": "stream",
     "text": [
      "SVC_classifier accuracy percent:  69.803250641574\n"
     ]
    }
   ],
   "source": [
    "print(\"SVC_classifier accuracy percent: \", (nltk.classify.accuracy(SVC_classifier, testing_set))*100)"
   ]
  },
  {
   "cell_type": "code",
   "execution_count": 32,
   "id": "a842be03",
   "metadata": {},
   "outputs": [],
   "source": [
    "save_classifier = open(\"../models/SVC_classifier.pickle\", \"wb\")\n",
    "pickle.dump(SVC_classifier, save_classifier)\n",
    "save_classifier.close()"
   ]
  },
  {
   "cell_type": "markdown",
   "id": "29242ada",
   "metadata": {},
   "source": [
    "LinearSVC"
   ]
  },
  {
   "cell_type": "code",
   "execution_count": 33,
   "id": "21dd408b",
   "metadata": {},
   "outputs": [
    {
     "data": {
      "text/plain": [
       "<SklearnClassifier(LinearSVC())>"
      ]
     },
     "execution_count": 33,
     "metadata": {},
     "output_type": "execute_result"
    }
   ],
   "source": [
    "LinearSVC_classifier = SklearnClassifier(LinearSVC())\n",
    "LinearSVC_classifier.train(training_set)"
   ]
  },
  {
   "cell_type": "code",
   "execution_count": 34,
   "id": "0b833321",
   "metadata": {},
   "outputs": [
    {
     "name": "stdout",
     "output_type": "stream",
     "text": [
      "LinearSVC_classifier accuracy percent:  65.35500427715996\n"
     ]
    }
   ],
   "source": [
    "print(\"LinearSVC_classifier accuracy percent: \", (nltk.classify.accuracy(LinearSVC_classifier, testing_set))*100)"
   ]
  },
  {
   "cell_type": "code",
   "execution_count": 35,
   "id": "b235d7d6",
   "metadata": {},
   "outputs": [],
   "source": [
    "save_classifier = open(\"../models/LinearSVC_classifier.pickle\", \"wb\")\n",
    "pickle.dump(LinearSVC_classifier, save_classifier)\n",
    "save_classifier.close()"
   ]
  },
  {
   "cell_type": "markdown",
   "id": "cc988a24",
   "metadata": {},
   "source": [
    "SGDClassifier"
   ]
  },
  {
   "cell_type": "code",
   "execution_count": 40,
   "id": "cb1f6b02",
   "metadata": {},
   "outputs": [
    {
     "data": {
      "text/plain": [
       "<SklearnClassifier(SGDClassifier())>"
      ]
     },
     "execution_count": 40,
     "metadata": {},
     "output_type": "execute_result"
    }
   ],
   "source": [
    "SGDClassifier_classifier = SklearnClassifier(SGDClassifier())\n",
    "SGDClassifier_classifier.train(training_set)"
   ]
  },
  {
   "cell_type": "code",
   "execution_count": 41,
   "id": "edcd6f06",
   "metadata": {},
   "outputs": [
    {
     "name": "stdout",
     "output_type": "stream",
     "text": [
      "SGDClassifier_classifier accuracy percent:  65.69717707442258\n"
     ]
    }
   ],
   "source": [
    "print(\"SGDClassifier_classifier accuracy percent: \", (nltk.classify.accuracy(SGDClassifier_classifier, testing_set))*100)"
   ]
  },
  {
   "cell_type": "code",
   "execution_count": 42,
   "id": "74c9904c",
   "metadata": {},
   "outputs": [],
   "source": [
    "save_classifier = open(\"../models/SGDClassifier_classifier.pickle\", \"wb\")\n",
    "pickle.dump(LinearSVC_classifier, save_classifier)\n",
    "save_classifier.close()"
   ]
  },
  {
   "cell_type": "markdown",
   "id": "0b574418",
   "metadata": {},
   "source": [
    "### Vote classifier"
   ]
  },
  {
   "cell_type": "code",
   "execution_count": 37,
   "id": "27e5f571",
   "metadata": {},
   "outputs": [],
   "source": [
    "from nltk.classify import ClassifierI\n",
    "from statistics import mode"
   ]
  },
  {
   "cell_type": "code",
   "execution_count": 38,
   "id": "514dfd72",
   "metadata": {},
   "outputs": [],
   "source": [
    "class VoteClassifier(ClassifierI):\n",
    "    def __init__(self, *classifiers):\n",
    "        self._classifiers = classifiers\n",
    "        \n",
    "    def classify(self, features):\n",
    "        votes = []\n",
    "        for c in self._classifiers:\n",
    "            v = c.classify(features)\n",
    "            votes.append(v)\n",
    "        return mode(votes)\n",
    "    \n",
    "    def confidence(self, features):\n",
    "        votes = []\n",
    "        for c in self._classifiers:\n",
    "            v = c.classify(features)\n",
    "            votes.append(v)\n",
    "        choice_votes = votes.count(mode(votes))\n",
    "        conf = choice_votes / len(votes)\n",
    "        return conf"
   ]
  },
  {
   "cell_type": "code",
   "execution_count": 55,
   "id": "dab8c3be",
   "metadata": {},
   "outputs": [],
   "source": [
    "voted_classifier = VoteClassifier(MNB_classifier, \n",
    "                                  BernoulliNB_classifier, \n",
    "                                  LogisticRegression_classifier,  \n",
    "                                  LinearSVC_classifier, \n",
    "                                  SVC_classifier)"
   ]
  },
  {
   "cell_type": "code",
   "execution_count": 56,
   "id": "fc434abb",
   "metadata": {},
   "outputs": [
    {
     "name": "stdout",
     "output_type": "stream",
     "text": [
      "voted_classifier accuracy percent:  68.77673224978615\n"
     ]
    }
   ],
   "source": [
    "print(\"voted_classifier accuracy percent: \", (nltk.classify.accuracy(voted_classifier, testing_set))*100)"
   ]
  },
  {
   "cell_type": "code",
   "execution_count": 57,
   "id": "e5a4891d",
   "metadata": {},
   "outputs": [
    {
     "name": "stdout",
     "output_type": "stream",
     "text": [
      "Classification: neutral Confidence percent: 1.0\n"
     ]
    }
   ],
   "source": [
    "print(\"Classification:\", voted_classifier.classify(testing_set[0][0]), \n",
    "      \"Confidence percent:\", voted_classifier.confidence(testing_set[0][0]))"
   ]
  },
  {
   "cell_type": "markdown",
   "id": "714331d5",
   "metadata": {},
   "source": [
    "## Validating the model using random crypto tweets on twitter"
   ]
  },
  {
   "cell_type": "code",
   "execution_count": 58,
   "id": "7dd5475c",
   "metadata": {},
   "outputs": [],
   "source": [
    "validation_feature_set = find_features('An EU proposal that would have banned the mining of energy-intensive cryptocurrencies such as Bitcoin failed in a committee vote, in what industry backers called a big win')"
   ]
  },
  {
   "cell_type": "code",
   "execution_count": 59,
   "id": "4109d5e9",
   "metadata": {},
   "outputs": [
    {
     "name": "stdout",
     "output_type": "stream",
     "text": [
      "Classification: positive Confidence percent: 0.6\n"
     ]
    }
   ],
   "source": [
    "print(\"Classification:\", voted_classifier.classify(validation_feature_set),\n",
    "      \"Confidence percent:\", voted_classifier.confidence(validation_feature_set))"
   ]
  },
  {
   "cell_type": "code",
   "execution_count": 60,
   "id": "1c4a1836",
   "metadata": {},
   "outputs": [],
   "source": [
    "validation2 = find_features('South Koreans have elected a pro-crypto president who vows to deregulate the #crypto industry. #cryptocurrency #bitcoin $BTC')"
   ]
  },
  {
   "cell_type": "code",
   "execution_count": 61,
   "id": "391f32d9",
   "metadata": {},
   "outputs": [
    {
     "name": "stdout",
     "output_type": "stream",
     "text": [
      "Classification: positive \n",
      "Confidence percent: 1.0\n"
     ]
    }
   ],
   "source": [
    "print(\"Classification:\", voted_classifier.classify(validation2),\n",
    "      \"\\nConfidence percent:\", voted_classifier.confidence(validation2))"
   ]
  },
  {
   "cell_type": "code",
   "execution_count": null,
   "id": "ccdbbad9",
   "metadata": {},
   "outputs": [],
   "source": []
  }
 ],
 "metadata": {
  "kernelspec": {
   "display_name": "Python 3 (ipykernel)",
   "language": "python",
   "name": "python3"
  },
  "language_info": {
   "codemirror_mode": {
    "name": "ipython",
    "version": 3
   },
   "file_extension": ".py",
   "mimetype": "text/x-python",
   "name": "python",
   "nbconvert_exporter": "python",
   "pygments_lexer": "ipython3",
   "version": "3.9.6"
  }
 },
 "nbformat": 4,
 "nbformat_minor": 5
}
